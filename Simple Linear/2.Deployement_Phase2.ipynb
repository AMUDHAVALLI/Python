{
 "cells": [
  {
   "cell_type": "code",
   "execution_count": 1,
   "id": "514a1d6b-bc4a-4fe4-a7c1-c41729f64682",
   "metadata": {},
   "outputs": [],
   "source": [
    "import pickle\n"
   ]
  },
  {
   "cell_type": "code",
   "execution_count": 2,
   "id": "b9309278-4397-41dd-80e1-e82463266ac8",
   "metadata": {},
   "outputs": [
    {
     "name": "stderr",
     "output_type": "stream",
     "text": [
      "C:\\Users\\901854\\AppData\\Local\\anaconda3\\Lib\\site-packages\\sklearn\\base.py:493: UserWarning: X does not have valid feature names, but LinearRegression was fitted with feature names\n",
      "  warnings.warn(\n"
     ]
    }
   ],
   "source": [
    "loaded_model = pickle.load(open(\"final_model_liner.sav\",'rb'))\n",
    "result = loaded_model.predict([[15]])"
   ]
  },
  {
   "cell_type": "code",
   "execution_count": 3,
   "id": "ef6008b7-1971-42c0-b606-94160ac47fee",
   "metadata": {},
   "outputs": [
    {
     "data": {
      "text/plain": [
       "array([[167181.3106341]])"
      ]
     },
     "execution_count": 3,
     "metadata": {},
     "output_type": "execute_result"
    }
   ],
   "source": [
    "result"
   ]
  },
  {
   "cell_type": "code",
   "execution_count": null,
   "id": "43b30fd2-c414-450e-84a8-9f91fe44a683",
   "metadata": {},
   "outputs": [],
   "source": []
  }
 ],
 "metadata": {
  "kernelspec": {
   "display_name": "Python 3 (ipykernel)",
   "language": "python",
   "name": "python3"
  },
  "language_info": {
   "codemirror_mode": {
    "name": "ipython",
    "version": 3
   },
   "file_extension": ".py",
   "mimetype": "text/x-python",
   "name": "python",
   "nbconvert_exporter": "python",
   "pygments_lexer": "ipython3",
   "version": "3.12.7"
  }
 },
 "nbformat": 4,
 "nbformat_minor": 5
}
